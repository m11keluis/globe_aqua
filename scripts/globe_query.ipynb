{
 "cells": [
  {
   "cell_type": "code",
   "execution_count": 33,
   "id": "fc87b4e7-5d70-41ba-917d-c3afe9f67d3b",
   "metadata": {},
   "outputs": [],
   "source": [
    "import pandas as pd\n",
    "import requests\n",
    "\n",
    "wq = 'water_temperatures'\n",
    "sdate = '2000-01-01'\n",
    "edate = '2023-01-01'\n",
    "\n",
    "base_api = 'https://api.globe.gov/search/v1/measurement/'\n",
    "end_api = '&geojson=TRUE&sample=FALSE'\n",
    "mid = \"?protocols={}&datefield=measuredDate&startdate={}&enddate={}\".format(wq, sdate, edate)\n",
    "url = base_api + mid + end_api"
   ]
  },
  {
   "cell_type": "markdown",
   "id": "03b5ee9f-b6b7-4177-b512-29d396f0cd19",
   "metadata": {},
   "source": [
    "## Protocols:\n",
    "Available values : dissolved_oxygens, freshwater_macroinvertebrates, hydrology_alkalinities, hydrology_phs, land_covers, mosquito_habitat_mapper, nitrates, salinities, transparencies, water_temperatures"
   ]
  },
  {
   "cell_type": "code",
   "execution_count": 34,
   "id": "4486b769-e1c0-41b0-8331-a9af40d97e82",
   "metadata": {},
   "outputs": [],
   "source": [
    "response = requests.get(url)\n",
    "dictr = response.json()"
   ]
  },
  {
   "cell_type": "code",
   "execution_count": null,
   "id": "57245eff-3b0e-4162-85be-ca9d494eaa2a",
   "metadata": {},
   "outputs": [],
   "source": [
    "recs = dictr['features']\n",
    "df = pd.json_normalize(recs)\n",
    "df.describe()"
   ]
  },
  {
   "cell_type": "code",
   "execution_count": null,
   "id": "4beb9282-79aa-4161-a2dc-8d8dc875508c",
   "metadata": {},
   "outputs": [],
   "source": []
  }
 ],
 "metadata": {
  "kernelspec": {
   "display_name": "Python 3 (ipykernel)",
   "language": "python",
   "name": "python3"
  },
  "language_info": {
   "codemirror_mode": {
    "name": "ipython",
    "version": 3
   },
   "file_extension": ".py",
   "mimetype": "text/x-python",
   "name": "python",
   "nbconvert_exporter": "python",
   "pygments_lexer": "ipython3",
   "version": "3.10.8"
  }
 },
 "nbformat": 4,
 "nbformat_minor": 5
}
